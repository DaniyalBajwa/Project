{
 "cells": [
  {
   "cell_type": "code",
   "execution_count": 1,
   "id": "2b0dd1fc-2667-40cd-b421-bd9951f7e45c",
   "metadata": {},
   "outputs": [
    {
     "name": "stdout",
     "output_type": "stream",
     "text": [
      "Welcome to Tic-Tac-Toe!\n",
      "You are X, AI is O.\n",
      " | | \n",
      "-----\n",
      " | | \n",
      "-----\n",
      " | | \n",
      "-----\n"
     ]
    },
    {
     "name": "stdin",
     "output_type": "stream",
     "text": [
      "Enter row (0-2):  2\n",
      "Enter col (0-2):  1\n"
     ]
    },
    {
     "name": "stdout",
     "output_type": "stream",
     "text": [
      " | | \n",
      "-----\n",
      " | | \n",
      "-----\n",
      " |X| \n",
      "-----\n",
      "AI is making a move...\n",
      " |O| \n",
      "-----\n",
      " | | \n",
      "-----\n",
      " |X| \n",
      "-----\n"
     ]
    },
    {
     "name": "stdin",
     "output_type": "stream",
     "text": [
      "Enter row (0-2):  2\n",
      "Enter col (0-2):  1\n"
     ]
    },
    {
     "name": "stdout",
     "output_type": "stream",
     "text": [
      "Cell already taken. Try again.\n"
     ]
    },
    {
     "name": "stdin",
     "output_type": "stream",
     "text": [
      "Enter row (0-2):  1\n",
      "Enter col (0-2):  2\n"
     ]
    },
    {
     "name": "stdout",
     "output_type": "stream",
     "text": [
      " |O| \n",
      "-----\n",
      " | |X\n",
      "-----\n",
      " |X| \n",
      "-----\n",
      "AI is making a move...\n",
      " |O| \n",
      "-----\n",
      " | |X\n",
      "-----\n",
      "O|X| \n",
      "-----\n"
     ]
    },
    {
     "name": "stdin",
     "output_type": "stream",
     "text": [
      "Enter row (0-2):  2\n",
      "Enter col (0-2):  1\n"
     ]
    },
    {
     "name": "stdout",
     "output_type": "stream",
     "text": [
      "Cell already taken. Try again.\n"
     ]
    },
    {
     "name": "stdin",
     "output_type": "stream",
     "text": [
      "Enter row (0-2):  0\n",
      "Enter col (0-2):  2\n"
     ]
    },
    {
     "name": "stdout",
     "output_type": "stream",
     "text": [
      " |O|X\n",
      "-----\n",
      " | |X\n",
      "-----\n",
      "O|X| \n",
      "-----\n",
      "AI is making a move...\n",
      " |O|X\n",
      "-----\n",
      " | |X\n",
      "-----\n",
      "O|X|O\n",
      "-----\n"
     ]
    },
    {
     "name": "stdin",
     "output_type": "stream",
     "text": [
      "Enter row (0-2):  1\n",
      "Enter col (0-2):  0\n"
     ]
    },
    {
     "name": "stdout",
     "output_type": "stream",
     "text": [
      " |O|X\n",
      "-----\n",
      "X| |X\n",
      "-----\n",
      "O|X|O\n",
      "-----\n",
      "AI is making a move...\n",
      " |O|X\n",
      "-----\n",
      "X|O|X\n",
      "-----\n",
      "O|X|O\n",
      "-----\n"
     ]
    },
    {
     "name": "stdin",
     "output_type": "stream",
     "text": [
      "Enter row (0-2):  1\n",
      "Enter col (0-2):  1\n"
     ]
    },
    {
     "name": "stdout",
     "output_type": "stream",
     "text": [
      "Cell already taken. Try again.\n"
     ]
    },
    {
     "name": "stdin",
     "output_type": "stream",
     "text": [
      "Enter row (0-2):  2\n",
      "Enter col (0-2):  2\n"
     ]
    },
    {
     "name": "stdout",
     "output_type": "stream",
     "text": [
      "Cell already taken. Try again.\n"
     ]
    },
    {
     "name": "stdin",
     "output_type": "stream",
     "text": [
      "Enter row (0-2):  0\n",
      "Enter col (0-2):  0\n"
     ]
    },
    {
     "name": "stdout",
     "output_type": "stream",
     "text": [
      "X|O|X\n",
      "-----\n",
      "X|O|X\n",
      "-----\n",
      "O|X|O\n",
      "-----\n",
      "It's a draw!\n"
     ]
    }
   ],
   "source": [
    "import math\n",
    "\n",
    "# Step 1: Create the game board\n",
    "board = [[\" \" for _ in range(3)] for _ in range(3)]\n",
    "\n",
    "def print_board():\n",
    "    for row in board:\n",
    "        print(\"|\".join(row))\n",
    "        print(\"-\" * 5)\n",
    "\n",
    "# Step 2: Check for winner or draw\n",
    "def check_winner():\n",
    "    # Rows, columns and diagonals\n",
    "    for i in range(3):\n",
    "        if board[i][0] == board[i][1] == board[i][2] != \" \":\n",
    "            return board[i][0]\n",
    "        if board[0][i] == board[1][i] == board[2][i] != \" \":\n",
    "            return board[0][i]\n",
    "    \n",
    "    if board[0][0] == board[1][1] == board[2][2] != \" \":\n",
    "        return board[0][0]\n",
    "    if board[0][2] == board[1][1] == board[2][0] != \" \":\n",
    "        return board[0][2]\n",
    "    \n",
    "    # Check for draw\n",
    "    if all(cell != \" \" for row in board for cell in row):\n",
    "        return \"Draw\"\n",
    "    \n",
    "    return None\n",
    "\n",
    "# Step 3: Minimax algorithm\n",
    "def minimax(depth, is_maximizing):\n",
    "    winner = check_winner()\n",
    "    if winner == \"O\":\n",
    "        return 1\n",
    "    elif winner == \"X\":\n",
    "        return -1\n",
    "    elif winner == \"Draw\":\n",
    "        return 0\n",
    "\n",
    "    if is_maximizing:\n",
    "        best_score = -math.inf\n",
    "        for i in range(3):\n",
    "            for j in range(3):\n",
    "                if board[i][j] == \" \":\n",
    "                    board[i][j] = \"O\"\n",
    "                    score = minimax(depth + 1, False)\n",
    "                    board[i][j] = \" \"\n",
    "                    best_score = max(score, best_score)\n",
    "        return best_score\n",
    "    else:\n",
    "        best_score = math.inf\n",
    "        for i in range(3):\n",
    "            for j in range(3):\n",
    "                if board[i][j] == \" \":\n",
    "                    board[i][j] = \"X\"\n",
    "                    score = minimax(depth + 1, True)\n",
    "                    board[i][j] = \" \"\n",
    "                    best_score = min(score, best_score)\n",
    "        return best_score\n",
    "\n",
    "def best_move():\n",
    "    best_score = -math.inf\n",
    "    move = None\n",
    "    for i in range(3):\n",
    "        for j in range(3):\n",
    "            if board[i][j] == \" \":\n",
    "                board[i][j] = \"O\"\n",
    "                score = minimax(0, False)\n",
    "                board[i][j] = \" \"\n",
    "                if score > best_score:\n",
    "                    best_score = score\n",
    "                    move = (i, j)\n",
    "    if move:\n",
    "        board[move[0]][move[1]] = \"O\"\n",
    "\n",
    "# Step 4: User vs AI Game Loop\n",
    "def play_game():\n",
    "    print(\"Welcome to Tic-Tac-Toe!\")\n",
    "    print(\"You are X, AI is O.\")\n",
    "    print_board()\n",
    "\n",
    "    while True:\n",
    "        # User move\n",
    "        while True:\n",
    "            try:\n",
    "                row = int(input(\"Enter row (0-2): \"))\n",
    "                col = int(input(\"Enter col (0-2): \"))\n",
    "                if board[row][col] == \" \":\n",
    "                    board[row][col] = \"X\"\n",
    "                    break\n",
    "                else:\n",
    "                    print(\"Cell already taken. Try again.\")\n",
    "            except (ValueError, IndexError):\n",
    "                print(\"Invalid input. Try again.\")\n",
    "        \n",
    "        print_board()\n",
    "        result = check_winner()\n",
    "        if result:\n",
    "            if result == \"Draw\":\n",
    "                print(\"It's a draw!\")\n",
    "            else:\n",
    "                print(f\"{result} wins!\")\n",
    "            break\n",
    "\n",
    "        # AI move\n",
    "        print(\"AI is making a move...\")\n",
    "        best_move()\n",
    "        print_board()\n",
    "        result = check_winner()\n",
    "        if result:\n",
    "            if result == \"Draw\":\n",
    "                print(\"It's a draw!\")\n",
    "            else:\n",
    "                print(f\"{result} wins!\")\n",
    "            break\n",
    "\n",
    "# Start the game\n",
    "play_game()\n",
    "\n"
   ]
  }
 ],
 "metadata": {
  "kernelspec": {
   "display_name": "Python 3 (ipykernel)",
   "language": "python",
   "name": "python3"
  },
  "language_info": {
   "codemirror_mode": {
    "name": "ipython",
    "version": 3
   },
   "file_extension": ".py",
   "mimetype": "text/x-python",
   "name": "python",
   "nbconvert_exporter": "python",
   "pygments_lexer": "ipython3",
   "version": "3.12.3"
  }
 },
 "nbformat": 4,
 "nbformat_minor": 5
}
